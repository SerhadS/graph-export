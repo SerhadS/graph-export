{
 "cells": [
  {
   "cell_type": "code",
   "execution_count": null,
   "id": "7bedaa90",
   "metadata": {},
   "outputs": [],
   "source": [
    "!python -m spacy download en_core_web_sm"
   ]
  },
  {
   "cell_type": "code",
   "execution_count": 1,
   "id": "309432e4",
   "metadata": {},
   "outputs": [],
   "source": [
    "from graph_export import GraphExportAgent"
   ]
  },
  {
   "cell_type": "markdown",
   "id": "20be2fa8",
   "metadata": {},
   "source": [
    "## wordnet case"
   ]
  },
  {
   "cell_type": "code",
   "execution_count": 2,
   "id": "f827ca5f",
   "metadata": {},
   "outputs": [],
   "source": [
    "cfg = {\n",
    "    'USPTO_stopwords_path': './USPTO_stopwords.csv',\n",
    "    'technet_stopwords_path': './technical_stopwords.csv',\n",
    "    'technet_add_stopwords_path': './tn_additional_stopwords.csv',\n",
    "    'selected_kb': 'wordnet' # in ['technet', 'wordnet', 'conceptnet', 'other']\n",
    "}"
   ]
  },
  {
   "cell_type": "code",
   "execution_count": 3,
   "id": "cb000ad6",
   "metadata": {},
   "outputs": [],
   "source": [
    "# wordnet case\n",
    "agent = GraphExportAgent('./spherical_robot.txt', cfg = cfg)"
   ]
  },
  {
   "cell_type": "code",
   "execution_count": 4,
   "id": "c27066cb",
   "metadata": {},
   "outputs": [],
   "source": [
    "graph_wn, graph_mst_wn, graph_mst_plus_wn = agent.main_logic()"
   ]
  },
  {
   "cell_type": "markdown",
   "id": "f2bf4136",
   "metadata": {},
   "source": [
    "## conceptnet case"
   ]
  },
  {
   "cell_type": "code",
   "execution_count": 8,
   "id": "1da471ac",
   "metadata": {},
   "outputs": [
    {
     "name": "stdout",
     "output_type": "stream",
     "text": [
      "downloading...\n",
      "100% [..................................................................] 325403502 / 325403502"
     ]
    },
    {
     "data": {
      "text/plain": [
       "'numberbatch-en-19.08.txt.gz'"
      ]
     },
     "execution_count": 8,
     "metadata": {},
     "output_type": "execute_result"
    }
   ],
   "source": [
    "# conceptnet case\n",
    "\n",
    "# download the conceptnet model\n",
    "\n",
    "import wget\n",
    "\n",
    "URL = \"https://conceptnet.s3.amazonaws.com/downloads/2019/numberbatch/numberbatch-en-19.08.txt.gz\"\n",
    "print('downloading...')\n",
    "wget.download(URL, \"numberbatch-en-19.08.txt.gz\")"
   ]
  },
  {
   "cell_type": "code",
   "execution_count": 9,
   "id": "cb52ec05",
   "metadata": {},
   "outputs": [],
   "source": [
    "# unzip the file\n",
    "import gzip\n",
    "import shutil\n",
    "with gzip.open('numberbatch-en-19.08.txt.gz', 'rb') as f_in:\n",
    "    with open('numberbatch-en-19.08.txt', 'wb') as f_out:\n",
    "        shutil.copyfileobj(f_in, f_out)"
   ]
  },
  {
   "cell_type": "code",
   "execution_count": 5,
   "id": "0093ec25",
   "metadata": {},
   "outputs": [],
   "source": [
    "from gensim.test.utils import datapath, get_tmpfile\n",
    "from gensim.models import KeyedVectors\n",
    "from gensim.models import Word2Vec\n",
    "from gensim.scripts.glove2word2vec import glove2word2vec"
   ]
  },
  {
   "cell_type": "code",
   "execution_count": 7,
   "id": "0462d4ec",
   "metadata": {},
   "outputs": [],
   "source": [
    "model_cn = KeyedVectors.load_word2vec_format('./numberbatch-en-19.08.txt', binary= False)"
   ]
  },
  {
   "cell_type": "code",
   "execution_count": 8,
   "id": "9c3fd794",
   "metadata": {},
   "outputs": [],
   "source": [
    "cfg = {\n",
    "    'USPTO_stopwords_path': './USPTO_stopwords.csv',\n",
    "    'technet_stopwords_path': './technical_stopwords.csv',\n",
    "    'technet_add_stopwords_path': './tn_additional_stopwords.csv',\n",
    "    'selected_kb': 'conceptnet' # in ['technet', 'wordnet', 'conceptnet', 'other']\n",
    "}"
   ]
  },
  {
   "cell_type": "code",
   "execution_count": 9,
   "id": "9acd3b83",
   "metadata": {},
   "outputs": [],
   "source": [
    "agent = GraphExportAgent('./spherical_robot.txt', cfg = cfg, model = model_cn)"
   ]
  },
  {
   "cell_type": "code",
   "execution_count": 10,
   "id": "ea60a83f",
   "metadata": {},
   "outputs": [],
   "source": [
    "graph_cn, graph_mst_cn, graph_mst_plus_cn = agent.main_logic()"
   ]
  },
  {
   "cell_type": "markdown",
   "id": "fb25f209",
   "metadata": {},
   "source": [
    "## technet case\n",
    "\n",
    "you can download this model (~ 28GB) from following dropbox folder:\n",
    "\n",
    "https://www.dropbox.com/sh/yu2z4sf3bcmkqrb/AABun5qFT8XZncHipEB1TDj0a?dl=0\n",
    "\n",
    "download word_embeddings_*.txt files only to a sub-folder, \n",
    "\n",
    "run the following cell to create a single file to be imported\n",
    "\n",
    "then delete the downloaded files"
   ]
  },
  {
   "cell_type": "code",
   "execution_count": null,
   "id": "ed622934",
   "metadata": {},
   "outputs": [],
   "source": [
    "download_folder = './600/'\n",
    "num_files = 404\n",
    "\n",
    "with open (\"./data/word_embeddings.txt\", \n",
    "           'w', encoding = 'utf-8') as f:\n",
    "    for i in range(num_files):\n",
    "        with open(download_folder+'word_embeddings_'+ str(i)+'.txt', 'r', encoding = 'utf-8') as f1:\n",
    "            temp = f1.readlines()\n",
    "        print(f'{i+1}/404 done!}')\n",
    "        f.writelines(temp)\n",
    "#delete the download folder\n",
    "shutil.rmtree('./600')"
   ]
  },
  {
   "cell_type": "code",
   "execution_count": 6,
   "id": "5ccfbc69",
   "metadata": {},
   "outputs": [],
   "source": [
    "#convert that single file to word2vec format and import it\n",
    "model_path = datapath(os.getcwd()+\"/data/word_embeddings.txt\")\n",
    "tmp_file = get_tmpfile(os.getcwd()+'/Full_patent_w2v_model_th02_min2_s600_w10')\n",
    "glove2word2vec(model_path, tmp_file)\n",
    "#delete the unnecessary file\n",
    "os.remove(\"./data/word_embeddings.txt\") \n",
    "model = KeyedVectors.load_word2vec_format(tmp_file, binary=False)"
   ]
  },
  {
   "cell_type": "code",
   "execution_count": null,
   "id": "5651b4e2",
   "metadata": {},
   "outputs": [],
   "source": [
    "agent = GraphExportAgent('./spherical_robot.txt', cfg = cfg, model = model)"
   ]
  },
  {
   "cell_type": "code",
   "execution_count": null,
   "id": "b1e52a99",
   "metadata": {},
   "outputs": [],
   "source": [
    "graph_tn, graph_mst_tn, graph_mst_plus_tn = agent.main_logic()"
   ]
  },
  {
   "cell_type": "code",
   "execution_count": null,
   "id": "17dbf01d",
   "metadata": {},
   "outputs": [],
   "source": []
  }
 ],
 "metadata": {
  "kernelspec": {
   "display_name": "Python 3 (ipykernel)",
   "language": "python",
   "name": "python3"
  },
  "language_info": {
   "codemirror_mode": {
    "name": "ipython",
    "version": 3
   },
   "file_extension": ".py",
   "mimetype": "text/x-python",
   "name": "python",
   "nbconvert_exporter": "python",
   "pygments_lexer": "ipython3",
   "version": "3.9.6"
  }
 },
 "nbformat": 4,
 "nbformat_minor": 5
}
